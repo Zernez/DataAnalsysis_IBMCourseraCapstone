{
 "cells": [
  {
   "cell_type": "markdown",
   "metadata": {},
   "source": [
    "# Cities comparison of Rome and Paris, a story of a citizen twinning"
   ]
  },
  {
   "cell_type": "markdown",
   "metadata": {},
   "source": [
    "## 1. Description of the problem and a discussion of the background"
   ]
  },
  {
   "cell_type": "markdown",
   "metadata": {},
   "source": [
    "The project aim is to show the features differences from two european capital strongly twinned from over 60 years, Paris and Rome. The cities appears quite differently in aspect for historical reason and related development, but we can try to get some similarity for catch some connection over this cities. The region in the far history have to do with each other in some aspect in Roman era for conflicts, successfully characterized ironically with a famous cartoons series \"Asterix\" and later with quite strong relationship of various type with the Vatican. A similarity can be found with a development and growth of the cities around  rivers Senna and Tevere, for Paris and Rome respectively. We can say that the cities and lands had many cultural exchanges in the past and somehow testified by the fact that in general the french are called sometimes \"cousins\" from some italian friendly trends. \n",
    "The two cities in a actual view, summarily have some characteristic feature difference in population density and extension: Paris, have more density of population instead of much smaller extension, Rome have less density for much more extension. The other clear difference is a latitude that change the climate type, for Paris is like ocean-continental climate instead tempered climate with quite hot summer for Rome.\n",
    "The challenge is to find some different or similar characteristic from various aspect and eventually find a logical connection from these to underlying and tell a resume of the cities."
   ]
  },
  {
   "cell_type": "markdown",
   "metadata": {},
   "source": [
    "## 2. Data description"
   ]
  },
  {
   "cell_type": "markdown",
   "metadata": {},
   "source": [
    "The data are offered by one official site of Rome and a complete site that resume various data for Paris:\n",
    "\n",
    "- https://www.comune.roma.it/web/it/analisi-statistiche.page\n",
    "\n",
    "- https://opendata.paris.fr/pages/home/\n",
    "\n",
    "- https://www.data.gouv.fr/en/datasets/?sort=-created&organization=534fff89a3a7292c64a77eb7\n",
    "\n",
    "I used \"Foursquare API\" for underlying some restaurants venues attitude and distribution around the main attractions Colosseum and Tour Eiffel around 1 km.\n",
    "Some difficult are finded to adapt the data, because the Rome data is not very up-to-date and without a open polygon type data (GEOJSON) and the site for Paris not offer a native translation to english, for a immediate navigation. The data available it must be compatible in type and era, and it had need some adjustment and refine to compare the data. \n",
    "The data are used in one case for histogram for showing pollution compare and maps to show a concept of similarity and difference visually."
   ]
  },
  {
   "cell_type": "markdown",
   "metadata": {},
   "source": [
    "## 3. Methodology"
   ]
  },
  {
   "cell_type": "markdown",
   "metadata": {},
   "source": [
    "The first step was the searching of the data sources, and there are one official site each. The choose of what data to take and refine it was taken by the methodology of what can be compare and not. The data choosen is from a pollution surveys for only the detection-station, while for population and green spaces there are data for municipalities sector. For Rome I have to rewrite a GEOJSON file to cordon the municipalties and data associated with it.\n",
    "The first wiew is the compare of density of population in municipalities with the use of FOLIUM libraries at the year 2009."
   ]
  },
  {
   "cell_type": "markdown",
   "metadata": {},
   "source": [
    "### Paris density of population for square kilometer "
   ]
  },
  {
   "cell_type": "markdown",
   "metadata": {},
   "source": [
    "![ParisDensity](PopP.jpg)"
   ]
  },
  {
   "cell_type": "markdown",
   "metadata": {},
   "source": [
    "![ParisDensity](DataPopP.jpg)"
   ]
  },
  {
   "cell_type": "markdown",
   "metadata": {},
   "source": [
    "### Rome density of population for square kilometer "
   ]
  },
  {
   "cell_type": "markdown",
   "metadata": {},
   "source": [
    "![RomaDensity](PopR.jpg)"
   ]
  },
  {
   "cell_type": "markdown",
   "metadata": {},
   "source": [
    "![RomaDensity](DataPopR.jpg)"
   ]
  },
  {
   "cell_type": "markdown",
   "metadata": {},
   "source": [
    "In this two case the views show maps and tables to associate all data to municipalties to a quick detect of interesting results. The tables will help in the next views for the same municipalties and other dataset. In red are visualized the zones with more density of population."
   ]
  },
  {
   "cell_type": "markdown",
   "metadata": {},
   "source": [
    "### Paris green area in square metres for inhabitant"
   ]
  },
  {
   "cell_type": "markdown",
   "metadata": {},
   "source": [
    "![ParisGreen](GreenP.jpg)"
   ]
  },
  {
   "cell_type": "markdown",
   "metadata": {},
   "source": [
    "### Rome green area in square metres for inhabitant"
   ]
  },
  {
   "cell_type": "markdown",
   "metadata": {},
   "source": [
    "![RomeGreen](GreenR.jpg)"
   ]
  },
  {
   "cell_type": "markdown",
   "metadata": {},
   "source": [
    "In this case the dark green is a synonym of better life quality, because we have more square meters of green area for each person. This data are referred to an actual data (this year)."
   ]
  },
  {
   "cell_type": "markdown",
   "metadata": {},
   "source": [
    "### Pollution comparation of the cities"
   ]
  },
  {
   "cell_type": "markdown",
   "metadata": {},
   "source": [
    "This views shows first comparison mean of the detection air unit in each city of the same year 2017. In Rome the detection unit are much more less than Paris and in this last city mentioned the data is cutted from 41th detection unit.The data in question are NOx and particulate PM 10 and PM 2.5, more fine."
   ]
  },
  {
   "cell_type": "markdown",
   "metadata": {},
   "source": [
    "![Poll](Poll.jpg)"
   ]
  },
  {
   "cell_type": "markdown",
   "metadata": {},
   "source": [
    "#### Paris detection air unit"
   ]
  },
  {
   "cell_type": "markdown",
   "metadata": {},
   "source": [
    "Now we can take an overview of the detection unit position. In blue circle we have a NOx relevation with radius proportional to a measure. In the same way we have red with PM 10 particles and green PM 2.5 particles in the air. \n",
    "\n",
    "![ParisPoll](PollP.jpg)"
   ]
  },
  {
   "cell_type": "markdown",
   "metadata": {},
   "source": [
    "#### Rome detection air unit"
   ]
  },
  {
   "cell_type": "markdown",
   "metadata": {},
   "source": [
    "![RomePoll](PollR.jpg)"
   ]
  },
  {
   "cell_type": "markdown",
   "metadata": {},
   "source": [
    "Note that the images of Paris and Rome, are not correlated in scale each other, therefore we must cannot consider a scale reference in each other image."
   ]
  },
  {
   "cell_type": "markdown",
   "metadata": {},
   "source": [
    "### Italian and french restaurant around the two famous monuments of each cities"
   ]
  },
  {
   "cell_type": "markdown",
   "metadata": {},
   "source": [
    "In this last views is shown the restaurant around two monuments with the use of the FOURSQUARE API. In few words we have started to seek an italian restaurant in Rome and a french restaurant in Parigi from the wonderful monuments Colosseum and Tour Eiffel respectively! The radius covered in the search is about 1 kilometer. Green POI for Rome and Blue for Paris with red point for the start-point."
   ]
  },
  {
   "cell_type": "markdown",
   "metadata": {},
   "source": [
    "![SquareR](SquareR.jpg)"
   ]
  },
  {
   "cell_type": "markdown",
   "metadata": {},
   "source": [
    "![SquareP](SquareP.jpg)"
   ]
  },
  {
   "cell_type": "markdown",
   "metadata": {},
   "source": [
    "## 4. Result and discussion"
   ]
  },
  {
   "cell_type": "markdown",
   "metadata": {},
   "source": [
    "After seen the data we can say that Rome have more area extension than Paris against a lot density of population for Paris. We can see however that Paris have more green spaces in the near centre of the city and Rome is propagated in the external way, because of course, it have ancient monuments that affects drastically the expansion of the large green park.\n",
    "The pollution in comparison Paris have less pollution of all particles, in major trend the NOx where we can find a large difference between the two cities.\n",
    "The air detection unit in Rome not cover some municipalities and are very few in comparison to Paris and we can see a zone that have a large amount of particles than the other.\n",
    "In the last wiews we have a quick seek of italian restaurant in Italy and french restaurant in Paris, the points are distributed quite equally in the map, in little evidence however, that thare are more restaurant in the nord in both cities."
   ]
  },
  {
   "cell_type": "markdown",
   "metadata": {},
   "source": [
    "## 5. Conclusion"
   ]
  },
  {
   "cell_type": "markdown",
   "metadata": {},
   "source": [
    "We can say finally that there are difficulties to have a good comparison with poor data. Most of the data discarded are because in disagreement each other and some aspect don't match perfectly each other that can cause several misunderstandings and decrease quality of data. However the most interesting data  can be the density of population that we can see in Rome are extremely central instead of Paris that are more uniform in all area."
   ]
  }
 ],
 "metadata": {
  "kernelspec": {
   "display_name": "Python",
   "language": "python",
   "name": "conda-env-python-py"
  },
  "language_info": {
   "codemirror_mode": {
    "name": "ipython",
    "version": 3
   },
   "file_extension": ".py",
   "mimetype": "text/x-python",
   "name": "python",
   "nbconvert_exporter": "python",
   "pygments_lexer": "ipython3",
   "version": "3.6.10"
  }
 },
 "nbformat": 4,
 "nbformat_minor": 4
}
